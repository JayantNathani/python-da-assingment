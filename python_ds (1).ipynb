{
  "nbformat": 4,
  "nbformat_minor": 0,
  "metadata": {
    "colab": {
      "provenance": []
    },
    "kernelspec": {
      "name": "python3",
      "display_name": "Python 3"
    },
    "language_info": {
      "name": "python"
    }
  },
  "cells": [
    {
      "cell_type": "markdown",
      "source": [
        "#python datastructure assingment"
      ],
      "metadata": {
        "id": "QGfrb6q73cdG"
      }
    },
    {
      "cell_type": "markdown",
      "source": [
        "Q1. **What are data structures, and why are they important?**\n",
        "Ans. Essentially, a data structure is a specialized format for organizing, processing, retrieving, and storing data.\n",
        "It defines the relationship between data elements and the operations that can be performed on them.\n",
        "Think of them as containers that hold data in a specific arrangement.\n",
        "\n",
        "Examples of Common Data Structures:\n",
        "\n",
        "Arrays: Ordered collections of elements of the same data type.\n",
        "\n",
        "Linked Lists: Sequences of nodes, where each node contains data and a pointer to the next node.\n",
        "\n",
        "Stacks: Last-in, first-out (LIFO) data structures.\n",
        "\n",
        "Queues: First-in, first-out (FIFO) data structures.\n",
        "\n",
        "Trees: Hierarchical data structures consisting of nodes connected by edges.\n",
        "\n",
        "Graphs: Networks of nodes and edges, representing relationships between data elements.\n",
        "\n",
        "Hash Tables: Data structures that use a hash function to map keys to values, allowing for fast lookups.\n",
        "\n",
        "Q2.**Explain the difference between mutable and immutable data types with examples.**\n",
        "Ans. Mutable Data Types:\n",
        "\n",
        "  Definition:\n",
        "  Mutable data types allow their values to be changed after they are created. This means you can modify the object's internal state without creating a new object.\n",
        "\n",
        "  Characteristics:\n",
        "  Changes are made \"in place.\"\n",
        "  Multiple variables referencing the same mutable object will reflect any changes made to that object.\n",
        "\n",
        "  Examples (in Python):\n",
        "  Lists: Ordered, changeable sequences of elements.\n",
        "  Dictionaries: Collections of key-value pairs.\n",
        "  Sets: Unordered collections of unique elements.\n",
        "\n",
        "  Immutable Data Types:\n",
        "\n",
        "  Definition:\n",
        "  Immutable data types cannot be changed after they are created. Any operation that appears to modify an immutable object actually creates a new object with the modified value.\n",
        "\n",
        "  Characteristics:\n",
        "  Changes result in the creation of a new object.\n",
        "  Variables referencing the same immutable object will not be affected by changes made to other variables referencing what appears to be the same value.\n",
        "\n",
        "  Examples (in Python):\n",
        "  Strings: Sequences of characters.\n",
        "  Tuples: Ordered, unchangeable sequences of elements.\n",
        "  Integers: Whole numbers.\n",
        "  Floats: Decimal numbers.\n",
        "  Booleans: True or false values.\n",
        "\n",
        "Q3.**What are the main differences between lists and tuples in Python?**\n",
        "Ans. In Python, lists and tuples are both used to store collections of items, but they have key differences:\n",
        "\n",
        "Mutability:\n",
        "Lists are mutable, meaning you can change their contents (add, remove, or modify elements).\n",
        "\n",
        "Tuples are1 immutable, meaning their contents cannot be changed after creation.\n",
        "\n",
        "Syntax:\n",
        "Lists are defined using square brackets [].\n",
        "Tuples are defined using parentheses ().\n",
        "\n",
        "Use Cases:\n",
        "Lists are used for collections of items that may need to be modified.\n",
        "Tuples are used for collections of items that should remain constant.\n",
        "\n",
        "Performance:\n",
        "Tuples are generally faster and more memory-efficient than lists.\n",
        "In essence, if your data needs to change, use a list. If it needs to stay the same, use a tuple.\n",
        "\n",
        "Q4. **Describe how dictionaries store data?**\n",
        "Ans. In short, Python dictionaries store data as \"key-value\" pairs, using a technique called \"hashing\" for very fast data retrieval. Here's a simplified explanation:\n",
        "\n",
        "Key-Value Pairs:\n",
        "Each piece of data is stored with a unique \"key\" that acts as its identifier.\n",
        "The \"value\" is the actual data associated with that key.\n",
        "\n",
        "Hashing:\n",
        "Dictionaries use a \"hash function\" to quickly locate where each value is stored in memory.\n",
        "This makes looking up data by its key extremely efficient.\n",
        "\n",
        "Essentially Dictionaries make data retrival very fast, by using keys to find the location of values.\n",
        "\n",
        "**Q5. Why might you use a set instead of a list in Python?**\n",
        "Ans. You'd use a set instead of a list in Python primarily for these reasons:\n",
        "\n",
        "Uniqueness:\n",
        "Sets automatically ensure that all elements are unique, preventing duplicates.\n",
        "\n",
        "Fast Membership Testing:\n",
        "Sets allow for very quick checks to see if an element is present.\n",
        "\n",
        "Set Operations:\n",
        "Sets provide efficient ways to perform mathematical set operations like union, intersection, and difference.\n",
        "\n",
        "Q6. **What is a string in Python, and how is it different from a list?**\n",
        "Ans. In Python, strings and lists are both sequences, but they differ significantly in their nature and usage. Here's a concise breakdown:\n",
        "\n",
        "Strings:\n",
        "A string is a sequence of characters.\n",
        "It's used to represent text.\n",
        "Strings are immutable, meaning their contents cannot be changed after creation.\n",
        "They are enclosed in single (' ') or double (\" \") quotes.\n",
        "\n",
        "Lists:\n",
        "A list is an ordered collection of items.\n",
        "It can hold items of any data type (numbers, strings, other lists, etc.).\n",
        "Lists are mutable, meaning their contents can be modified (elements can be added, removed, or changed).\n",
        "They are enclosed in square brackets [ ].\n",
        "\n",
        "Key Difference:\n",
        "\n",
        "The most fundamental difference is mutability: strings are immutable, and lists are mutable.\n",
        "\n",
        "Q7.  **How do tuples ensure data integrity in Python?**\n",
        "Ans. Tuples ensure data integrity in Python because they are immutable. This means that once a tuple is created, its elements cannot be changed, added, or removed. This immutability prevents accidental or intentional modifications, thus preserving the data's original state.\n",
        "\n",
        "Q8. **What is a hash table, and how does it relate to dictionaries in Python?**\n",
        "Ans. A hash table is a data structure that stores key-value pairs using a hash function to map keys to their corresponding values. This allows for very fast lookups.\n",
        "\n",
        "In Python, dictionaries are implemented using hash tables. Essentially, a Python dictionary is a hash table.\n",
        "\n",
        "Q9. **Can lists contain different data types in Python?**\n",
        "Ans. Yes, Python lists are very flexible and can indeed contain elements of different data types. This is a key characteristic that distinguishes them from arrays in some other programming languages.\n",
        "\n",
        "Here's a quick confirmation:\n",
        "\n",
        "Mixed Data Types:\n",
        "A single Python list can hold integers, strings, floats, booleans, and even other lists or dictionaries.\n",
        "This flexibility makes Python lists very versatile for storing collections of diverse data.\n",
        "\n",
        "Q10.  **Explain why strings are immutable in Python?**\n",
        "Ans. Strings in Python are immutable for these key reasons:\n",
        "\n",
        "Efficiency:\n",
        "Immutability allows Python to optimize memory allocation and string operations.\n",
        "\n",
        "Consistency:\n",
        "It prevents unintended modifications, ensuring that a string's value remains consistent throughout a program.\n",
        "\n",
        "Security:\n",
        "Immutability enhances security by preventing malicious alteration of string data.\n",
        "\n",
        "Q11. **What advantages do dictionaries offer over lists for certain tasks?**\n",
        "Ans. Dictionaries offer these key advantages over lists for specific tasks:\n",
        "\n",
        "Fast Lookups:\n",
        "Dictionaries provide very efficient data retrieval using keys, much faster than searching through a list.\n",
        "\n",
        "Key-Value Association:\n",
        "Dictionaries allow you to associate values with meaningful keys, making data more organized and accessible.\n",
        "\n",
        "Uniqueness of Keys:\n",
        "Dictionaries enforce unique keys, which is helpful when dealing with data that has unique identifiers.\n",
        "\n",
        "Q12. **Describe a scenario where using a tuple would be preferable over a list.**\n",
        "Ans. A scenario where a tuple is preferable over a list:\n",
        "\n",
        "Storing coordinates:\n",
        "When you need to represent a fixed point in space (e.g., (x, y)), a tuple ensures that the coordinates remain unchanged.\n",
        "This is preferable when you want to avoid accidently changing the coordinates.\n",
        "\n",
        "Q13. **How do sets handle duplicate values in Python?**\n",
        "Ans. Sets in Python automatically eliminate duplicate values. When you add a duplicate element to a set, it simply ignores it, ensuring that the set contains only unique element.\n",
        "\n",
        "Q14.  **How does the “in” keyword work differently for lists and dictionaries?**\n",
        "Ans. The \"in\" keyword's behavior differs between lists and dictionaries like this:\n",
        "\n",
        "Lists:\n",
        "For lists, \"in\" checks if a specific value exists within the list. It iterates through the list's elements to find a match.\n",
        "\n",
        "Dictionaries:\n",
        "For dictionaries, \"in\" checks if a specific key exists within the dictionary's keys. It does not look for values. Due to the way dictionaries are stored, this key search is very fast.\n",
        "\n",
        "Q15. **Can you modify the elements of a tuple? Explain why or why not.**\n",
        "Ans. No, you cannot modify tuple elements. Tuples are immutable, meaning their contents are fixed after creation. This design prioritizes data integrity and consistency, preventing accidental changes.\n",
        "\n",
        "Q16. **What is a nested dictionary, and give an example of its use case?**\n",
        "Ans. A nested dictionary is a dictionary where one or more values are also dictionaries.\n",
        "\n",
        "Use Case:\n",
        "\n",
        "Storing student data: You could represent a student's information with a dictionary, and within that, store their grades as another dictionary.\n",
        "Example:\n",
        "\n",
        "Python\n",
        "\n",
        "student = {\n",
        "    \"name\": \"Alice\",\n",
        "    \"grades\": {\n",
        "        \"math\": 90,\n",
        "        \"science\": 85,\n",
        "        \"english\": 92\n",
        "    }\n",
        "}\n",
        "This efficiently organizes related data.\n",
        "\n",
        "Q17. **Describe the time complexity of accessing elements in a dictionary.**\n",
        "Ans. Accessing elements in a Python dictionary has an average time complexity of O(1), or constant time. This means that the time it takes to retrieve a value is generally independent of the dictionary's size, due to the use of hashing.\n",
        "\n",
        "Q18.  **In what situations are lists preferred over dictionaries?**\n",
        "Ans. Lists are preferred over dictionaries in these situations:\n",
        "\n",
        "Ordered data:\n",
        "When the order of elements matters.\n",
        "\n",
        "Sequential access:\n",
        "When you need to iterate through elements in a specific sequence.\n",
        "\n",
        "Duplicate values:\n",
        "When you need to store multiple occurrences of the same value.\n",
        "\n",
        "Simple collections:\n",
        "When you have a simple collection of items without the need for key-value associations.\n",
        "\n",
        "Q19. **Why are dictionaries considered unordered, and how does that affect data retrieval?**\n",
        "Ans. Dictionaries are considered unordered because their elements aren't stored in a specific sequence based on insertion. This is due to their underlying hash table implementation.\n",
        "\n",
        "Impact on Retrieval:\n",
        "\n",
        "Order doesn't matter for retrieval; you access values by their keys, which are hashed for fast lookups.\n",
        "\n",
        "This makes retrieval extremely efficient (on average O(1)), but you can't rely on elements being in a predictable order.\n",
        "\n",
        "In newer python versions, dictionaries do retain insertion order. However, the core functionality of dictionaries is for fast key based retrival, not ordered storage.\n",
        "\n",
        "Q20.** Explain the difference between a list and a dictionary in terms of data retrieval.**\n",
        "Ans. Lists:\n",
        "Data retrieval relies on the element's position (index). Searching can be slow (O(n) in the worst case).\n",
        "\n",
        "Dictionaries:\n",
        "Data retrieval uses keys, which are hashed for very fast lookups (average O(1)).\n",
        "Dictionaries use a key to find a value, lists use a numerical index."
      ],
      "metadata": {
        "id": "xEbweDLq4P02"
      }
    },
    {
      "cell_type": "code",
      "source": [
        "#  Write a code to create a string with your name and print it?\n",
        "my_name = \"Jayant\"\n",
        "print(my_name)"
      ],
      "metadata": {
        "colab": {
          "base_uri": "https://localhost:8080/"
        },
        "id": "eITH7_7Y__hD",
        "outputId": "39c74579-ccbf-463b-f396-8abec538d93b"
      },
      "execution_count": 1,
      "outputs": [
        {
          "output_type": "stream",
          "name": "stdout",
          "text": [
            "Jayant\n"
          ]
        }
      ]
    },
    {
      "cell_type": "code",
      "source": [
        "#Write a code to find the length of the string \"Hello World\"\n",
        "\n",
        "my_string = \"Hello World\"\n",
        "string_length = len(my_string)\n",
        "string_length\n"
      ],
      "metadata": {
        "colab": {
          "base_uri": "https://localhost:8080/"
        },
        "id": "KB2XgFPsAWtq",
        "outputId": "f9bb6659-6489-4a76-e9da-921fbab24fe6"
      },
      "execution_count": 2,
      "outputs": [
        {
          "output_type": "execute_result",
          "data": {
            "text/plain": [
              "11"
            ]
          },
          "metadata": {},
          "execution_count": 2
        }
      ]
    },
    {
      "cell_type": "code",
      "source": [
        "# Write a code to slice the first 3 characters from the string \"Python Programming\"\n",
        "\n",
        "my_string = \"Python Programming\"\n",
        "Jayant_string = my_string[:3]\n",
        "Jayant_string\n"
      ],
      "metadata": {
        "colab": {
          "base_uri": "https://localhost:8080/",
          "height": 35
        },
        "id": "26pkNpwnAh-w",
        "outputId": "4028b31e-cceb-40de-a8bb-2b14fcec0763"
      },
      "execution_count": 3,
      "outputs": [
        {
          "output_type": "execute_result",
          "data": {
            "text/plain": [
              "'Pyt'"
            ],
            "application/vnd.google.colaboratory.intrinsic+json": {
              "type": "string"
            }
          },
          "metadata": {},
          "execution_count": 3
        }
      ]
    },
    {
      "cell_type": "code",
      "source": [
        "# Write a code to convert the string \"hello\" to uppercase\n",
        "\n",
        "my_string = \"hello\"\n",
        "uppercase_string = my_string.upper()\n",
        "uppercase_string\n"
      ],
      "metadata": {
        "colab": {
          "base_uri": "https://localhost:8080/",
          "height": 35
        },
        "id": "M30neTL8A1mx",
        "outputId": "76d94b27-b661-423e-bc0e-b378500738ba"
      },
      "execution_count": 4,
      "outputs": [
        {
          "output_type": "execute_result",
          "data": {
            "text/plain": [
              "'HELLO'"
            ],
            "application/vnd.google.colaboratory.intrinsic+json": {
              "type": "string"
            }
          },
          "metadata": {},
          "execution_count": 4
        }
      ]
    },
    {
      "cell_type": "code",
      "source": [
        "# Write a code to replace the word \"apple\" with \"orange\" in the string \"I like apple\"\n",
        "\n",
        "text = \"I like apple\"\n",
        "new_text = text.replace(\"apple\", \"orange\")\n",
        "new_text\n"
      ],
      "metadata": {
        "colab": {
          "base_uri": "https://localhost:8080/",
          "height": 35
        },
        "id": "s62QbDssBIVB",
        "outputId": "7bcbfd9a-1ef2-469d-810a-0241b3915b40"
      },
      "execution_count": 5,
      "outputs": [
        {
          "output_type": "execute_result",
          "data": {
            "text/plain": [
              "'I like orange'"
            ],
            "application/vnd.google.colaboratory.intrinsic+json": {
              "type": "string"
            }
          },
          "metadata": {},
          "execution_count": 5
        }
      ]
    },
    {
      "cell_type": "code",
      "source": [
        "# Write a code to create a list with numbers 1 to 5 and print it\n",
        "\n",
        "my_list = list(range(1, 6))\n",
        "my_list"
      ],
      "metadata": {
        "colab": {
          "base_uri": "https://localhost:8080/"
        },
        "id": "l77PNPq1Bhyi",
        "outputId": "1a94d638-806b-401c-ec71-bdb8f836cebd"
      },
      "execution_count": 6,
      "outputs": [
        {
          "output_type": "execute_result",
          "data": {
            "text/plain": [
              "[1, 2, 3, 4, 5]"
            ]
          },
          "metadata": {},
          "execution_count": 6
        }
      ]
    },
    {
      "cell_type": "code",
      "source": [
        "# Write a code to append the number 10 to the list [1, 2, 3, 4]\n",
        "\n",
        "my_list = [1, 2, 3, 4]\n",
        "my_list.append(10)\n",
        "my_list\n"
      ],
      "metadata": {
        "colab": {
          "base_uri": "https://localhost:8080/"
        },
        "id": "vyKwVUJlBqrp",
        "outputId": "c2729ced-8c79-44aa-8040-e26b6db2b9e0"
      },
      "execution_count": 7,
      "outputs": [
        {
          "output_type": "execute_result",
          "data": {
            "text/plain": [
              "[1, 2, 3, 4, 10]"
            ]
          },
          "metadata": {},
          "execution_count": 7
        }
      ]
    },
    {
      "cell_type": "code",
      "source": [
        "# Write a code to remove the number 3 from the list [1, 2, 3, 4, 5]\n",
        "\n",
        "my_list = [1, 2, 3, 4, 5]\n",
        "my_list.remove(3)\n",
        "my_list\n"
      ],
      "metadata": {
        "colab": {
          "base_uri": "https://localhost:8080/"
        },
        "id": "aWpsfb5lBwp5",
        "outputId": "73ea0b07-e79c-4481-b04f-cd95ab2d21b1"
      },
      "execution_count": 8,
      "outputs": [
        {
          "output_type": "execute_result",
          "data": {
            "text/plain": [
              "[1, 2, 4, 5]"
            ]
          },
          "metadata": {},
          "execution_count": 8
        }
      ]
    },
    {
      "cell_type": "code",
      "source": [
        "# Write a code to access the second element in the list ['a', 'b', 'c', 'd']\n",
        "\n",
        "my_list = ['a', 'b', 'c', 'd']\n",
        "second_element = my_list[1]\n",
        "second_element\n"
      ],
      "metadata": {
        "colab": {
          "base_uri": "https://localhost:8080/",
          "height": 35
        },
        "id": "xKxuADW-B7sp",
        "outputId": "853e985d-5b61-4a66-90c4-e3685bb4b3da"
      },
      "execution_count": 9,
      "outputs": [
        {
          "output_type": "execute_result",
          "data": {
            "text/plain": [
              "'b'"
            ],
            "application/vnd.google.colaboratory.intrinsic+json": {
              "type": "string"
            }
          },
          "metadata": {},
          "execution_count": 9
        }
      ]
    },
    {
      "cell_type": "code",
      "source": [
        "# Write a code to reverse the list [10, 20, 30, 40, 50]\n",
        "\n",
        "my_list = [10, 20, 30, 40, 50]\n",
        "reversed_list = my_list[::-1]\n",
        "reversed_list\n"
      ],
      "metadata": {
        "colab": {
          "base_uri": "https://localhost:8080/"
        },
        "id": "rWXx50KECDZp",
        "outputId": "7700c5c4-1925-4759-924d-c5daee8077c2"
      },
      "execution_count": 10,
      "outputs": [
        {
          "output_type": "execute_result",
          "data": {
            "text/plain": [
              "[50, 40, 30, 20, 10]"
            ]
          },
          "metadata": {},
          "execution_count": 10
        }
      ]
    },
    {
      "cell_type": "code",
      "source": [
        "# Write a code to create a tuple with the elements 100, 200, 300 and print it\n",
        "\n",
        "# Create a tuple with the elements 100, 200, 300\n",
        "my_tuple = (100, 200, 300)\n",
        "\n",
        "# Print the tuple\n",
        "my_tuple\n"
      ],
      "metadata": {
        "colab": {
          "base_uri": "https://localhost:8080/"
        },
        "id": "bf3IapnpCMGZ",
        "outputId": "f319c207-a817-4478-c1ce-a2ca0b7f049b"
      },
      "execution_count": 11,
      "outputs": [
        {
          "output_type": "execute_result",
          "data": {
            "text/plain": [
              "(100, 200, 300)"
            ]
          },
          "metadata": {},
          "execution_count": 11
        }
      ]
    },
    {
      "cell_type": "code",
      "source": [
        "# Write a code to access the second-to-last element of the tuple ('red', 'green', 'blue', 'yellow')\n",
        "\n",
        "my_tuple = ('red', 'green', 'blue', 'yellow')\n",
        "second_to_last_element = my_tuple[-2]\n",
        "second_to_last_element\n"
      ],
      "metadata": {
        "colab": {
          "base_uri": "https://localhost:8080/",
          "height": 35
        },
        "id": "lePGdmKNCVCw",
        "outputId": "d9073667-0c5f-452b-8060-ef2a2fd02ec6"
      },
      "execution_count": 12,
      "outputs": [
        {
          "output_type": "execute_result",
          "data": {
            "text/plain": [
              "'blue'"
            ],
            "application/vnd.google.colaboratory.intrinsic+json": {
              "type": "string"
            }
          },
          "metadata": {},
          "execution_count": 12
        }
      ]
    },
    {
      "cell_type": "code",
      "source": [
        "# Write a code to find the minimum number in the tuple (10, 20, 5, 15)\n",
        "\n",
        "my_tuple = (10, 20, 5, 15)\n",
        "min_number = min(my_tuple)\n",
        "min_number\n"
      ],
      "metadata": {
        "colab": {
          "base_uri": "https://localhost:8080/"
        },
        "id": "xU0Z3bSGCfJB",
        "outputId": "ffb7c226-580f-455b-e48b-ce2f9b7357cd"
      },
      "execution_count": 13,
      "outputs": [
        {
          "output_type": "execute_result",
          "data": {
            "text/plain": [
              "5"
            ]
          },
          "metadata": {},
          "execution_count": 13
        }
      ]
    },
    {
      "cell_type": "code",
      "source": [
        "# Write a code to find the index of the element \"cat\" in the tuple ('dog', 'cat', 'rabbit')\n",
        "\n",
        "my_tuple = ('dog', 'cat', 'rabbit')\n",
        "try:\n",
        "  index_of_cat = my_tuple.index('cat')\n",
        "  print(f\"The index of 'cat' is: {index_of_cat}\")\n",
        "except ValueError:\n",
        "  print(\"'cat' not found in the tuple.\")\n"
      ],
      "metadata": {
        "colab": {
          "base_uri": "https://localhost:8080/"
        },
        "id": "5yGEsO7-Cq8Z",
        "outputId": "ffa8c0a5-5155-4a3e-ef83-cbc82929e69e"
      },
      "execution_count": 14,
      "outputs": [
        {
          "output_type": "stream",
          "name": "stdout",
          "text": [
            "The index of 'cat' is: 1\n"
          ]
        }
      ]
    },
    {
      "cell_type": "code",
      "source": [
        "# Write a code to create a tuple containing three different fruits and check if \"kiwi\" is in it\n",
        "\n",
        "fruits = (\"apple\", \"banana\", \"orange\")\n",
        "\n",
        "if \"kiwi\" in fruits:\n",
        "  print(\"Kiwi is in the tuple.\")\n",
        "else:\n",
        "  print(\"Kiwi is not in the tuple.\")\n"
      ],
      "metadata": {
        "colab": {
          "base_uri": "https://localhost:8080/"
        },
        "id": "QOjFJK9xCxBB",
        "outputId": "ae26b94a-273a-4d0d-e430-b8338f2248fe"
      },
      "execution_count": 15,
      "outputs": [
        {
          "output_type": "stream",
          "name": "stdout",
          "text": [
            "Kiwi is not in the tuple.\n"
          ]
        }
      ]
    },
    {
      "cell_type": "code",
      "source": [
        "# Write a code to create a set with the elements 'a', 'b', 'c' and print it\n",
        "\n",
        "# Create a set with the elements 'a', 'b', 'c'\n",
        "my_set = {'a', 'b', 'c'}\n",
        "\n",
        "# Print the set\n",
        "my_set\n"
      ],
      "metadata": {
        "colab": {
          "base_uri": "https://localhost:8080/"
        },
        "id": "aT3i49O0C10R",
        "outputId": "7cbe08e7-e215-471b-944b-5dda3ab78ebd"
      },
      "execution_count": 16,
      "outputs": [
        {
          "output_type": "execute_result",
          "data": {
            "text/plain": [
              "{'a', 'b', 'c'}"
            ]
          },
          "metadata": {},
          "execution_count": 16
        }
      ]
    },
    {
      "cell_type": "code",
      "source": [
        "# Write a code to clear all elements from the set {1, 2, 3, 4, 5}\n",
        "\n",
        "my_set = {1, 2, 3, 4, 5}\n",
        "my_set.clear()\n",
        "print(my_set)  # Output: set()\n"
      ],
      "metadata": {
        "colab": {
          "base_uri": "https://localhost:8080/"
        },
        "id": "6kCI9vXLC-rZ",
        "outputId": "1699aede-7ad1-42c3-8776-7133421ab4a5"
      },
      "execution_count": 17,
      "outputs": [
        {
          "output_type": "stream",
          "name": "stdout",
          "text": [
            "set()\n"
          ]
        }
      ]
    },
    {
      "cell_type": "code",
      "source": [
        "# Write a code to remove the element 4 from the set {1, 2, 3, 4}\n",
        "\n",
        "my_set = {1, 2, 3, 4}\n",
        "my_set.remove(4)\n",
        "my_set\n"
      ],
      "metadata": {
        "colab": {
          "base_uri": "https://localhost:8080/"
        },
        "id": "NQxQSTr2DFXq",
        "outputId": "8d6734ef-8a8e-4763-b307-228ba3a76617"
      },
      "execution_count": 18,
      "outputs": [
        {
          "output_type": "execute_result",
          "data": {
            "text/plain": [
              "{1, 2, 3}"
            ]
          },
          "metadata": {},
          "execution_count": 18
        }
      ]
    },
    {
      "cell_type": "code",
      "source": [
        "# Write a code to find the union of two sets {1, 2, 3} and {3, 4, 5}\n",
        "\n",
        "set1 = {1, 2, 3}\n",
        "set2 = {3, 4, 5}\n",
        "\n",
        "union_set = set1.union(set2)\n",
        "union_set\n"
      ],
      "metadata": {
        "colab": {
          "base_uri": "https://localhost:8080/"
        },
        "id": "DTRjNvZ6DNOa",
        "outputId": "f2be3fce-d592-4af8-d4ee-ee9f900642ed"
      },
      "execution_count": 19,
      "outputs": [
        {
          "output_type": "execute_result",
          "data": {
            "text/plain": [
              "{1, 2, 3, 4, 5}"
            ]
          },
          "metadata": {},
          "execution_count": 19
        }
      ]
    },
    {
      "cell_type": "code",
      "source": [
        "# Write a code to find the intersection of two sets {1, 2, 3} and {2, 3, 4}\n",
        "\n",
        "set1 = {1, 2, 3}\n",
        "set2 = {2, 3, 4}\n",
        "\n",
        "intersection_set = set1.intersection(set2)\n",
        "\n",
        "intersection_set\n"
      ],
      "metadata": {
        "colab": {
          "base_uri": "https://localhost:8080/"
        },
        "id": "waNUnQqKDUpZ",
        "outputId": "4c8306d7-74f1-4698-8628-53d9a27b0224"
      },
      "execution_count": 20,
      "outputs": [
        {
          "output_type": "execute_result",
          "data": {
            "text/plain": [
              "{2, 3}"
            ]
          },
          "metadata": {},
          "execution_count": 20
        }
      ]
    },
    {
      "cell_type": "code",
      "source": [
        "# Write a code to create a dictionary with the keys \"name\", \"age\", and \"city\", and print it\n",
        "\n",
        "my_dict = {\n",
        "    \"name\": \"John Doe\",\n",
        "    \"age\": 30,\n",
        "    \"city\": \"New York\"\n",
        "}\n",
        "\n",
        "my_dict\n"
      ],
      "metadata": {
        "colab": {
          "base_uri": "https://localhost:8080/"
        },
        "id": "1OSGjVYTDZ65",
        "outputId": "bff29dab-22eb-4464-a613-d789dd3d36ec"
      },
      "execution_count": 21,
      "outputs": [
        {
          "output_type": "execute_result",
          "data": {
            "text/plain": [
              "{'name': 'John Doe', 'age': 30, 'city': 'New York'}"
            ]
          },
          "metadata": {},
          "execution_count": 21
        }
      ]
    },
    {
      "cell_type": "code",
      "source": [
        "# Write a code to add a new key-value pair \"country\": \"USA\" to the dictionary {'name': 'John', 'age': 25}\n",
        "\n",
        "my_dict = {'name': 'John', 'age': 25}\n",
        "my_dict['country'] = 'USA'\n",
        "my_dict\n"
      ],
      "metadata": {
        "colab": {
          "base_uri": "https://localhost:8080/"
        },
        "id": "lCdDHlUTDgxg",
        "outputId": "8e290442-3de9-487d-b786-8e817a2d1822"
      },
      "execution_count": 22,
      "outputs": [
        {
          "output_type": "execute_result",
          "data": {
            "text/plain": [
              "{'name': 'John', 'age': 25, 'country': 'USA'}"
            ]
          },
          "metadata": {},
          "execution_count": 22
        }
      ]
    },
    {
      "cell_type": "code",
      "source": [
        "# Write a code to access the value associated with the key \"name\" in the dictionary {'name': 'Alice', 'age': 30}\n",
        "\n",
        "my_dictionary = {'name': 'Alice', 'age': 30}\n",
        "name_value = my_dictionary['name']\n",
        "name_value\n"
      ],
      "metadata": {
        "colab": {
          "base_uri": "https://localhost:8080/",
          "height": 35
        },
        "id": "ZibaTUETDqIx",
        "outputId": "1dd2ccd8-1a8a-4145-97a4-332c455b7ce8"
      },
      "execution_count": 23,
      "outputs": [
        {
          "output_type": "execute_result",
          "data": {
            "text/plain": [
              "'Alice'"
            ],
            "application/vnd.google.colaboratory.intrinsic+json": {
              "type": "string"
            }
          },
          "metadata": {},
          "execution_count": 23
        }
      ]
    },
    {
      "cell_type": "code",
      "source": [
        "# Write a code to remove the key \"age\" from the dictionary {'name': 'Bob', 'age': 22, 'city': 'New York'}\n",
        "\n",
        "my_dict = {'name': 'Bob', 'age': 22, 'city': 'New York'}\n",
        "if 'age' in my_dict:\n",
        "  del my_dict['age']\n",
        "my_dict\n"
      ],
      "metadata": {
        "colab": {
          "base_uri": "https://localhost:8080/"
        },
        "id": "3YSWx-AUDwJJ",
        "outputId": "665bdbd0-e83a-423a-f83f-c9e522a1c607"
      },
      "execution_count": 24,
      "outputs": [
        {
          "output_type": "execute_result",
          "data": {
            "text/plain": [
              "{'name': 'Bob', 'city': 'New York'}"
            ]
          },
          "metadata": {},
          "execution_count": 24
        }
      ]
    },
    {
      "cell_type": "code",
      "source": [
        "# Write a code to check if the key \"city\" exists in the dictionary {'name': 'Alice', 'city': 'Paris'}\n",
        "\n",
        "my_dict = {'name': 'Alice', 'city': 'Paris'}\n",
        "\n",
        "if 'city' in my_dict:\n",
        "  print(\"The key 'city' exists in the dictionary.\")\n",
        "else:\n",
        "  print(\"The key 'city' does not exist in the dictionary.\")\n"
      ],
      "metadata": {
        "colab": {
          "base_uri": "https://localhost:8080/"
        },
        "id": "tx0jgExYD4Mh",
        "outputId": "ef753e39-0b26-45d1-c868-9cda7ef1ba14"
      },
      "execution_count": 25,
      "outputs": [
        {
          "output_type": "stream",
          "name": "stdout",
          "text": [
            "The key 'city' exists in the dictionary.\n"
          ]
        }
      ]
    },
    {
      "cell_type": "code",
      "source": [
        "# Write a code to create a list, a tuple, and a dictionary, and print them all.\n",
        "\n",
        "# Create a list\n",
        "my_list = [1, 2, 3, 4, 5]\n",
        "\n",
        "# Create a tuple\n",
        "my_tuple = (6, 7, 8, 9, 10)\n",
        "\n",
        "# Create a dictionary\n",
        "my_dict = {'name': 'John', 'age': 30, 'city': 'New York'}\n",
        "\n",
        "# Print the list, tuple, and dictionary\n",
        "print(\"List:\", my_list)\n",
        "print(\"Tuple:\", my_tuple)\n",
        "print(\"Dictionary:\", my_dict)\n"
      ],
      "metadata": {
        "colab": {
          "base_uri": "https://localhost:8080/"
        },
        "id": "Oa3-qmxdD-rp",
        "outputId": "6fcb2fcb-83de-415c-da8a-7732acfd5c64"
      },
      "execution_count": 26,
      "outputs": [
        {
          "output_type": "stream",
          "name": "stdout",
          "text": [
            "List: [1, 2, 3, 4, 5]\n",
            "Tuple: (6, 7, 8, 9, 10)\n",
            "Dictionary: {'name': 'John', 'age': 30, 'city': 'New York'}\n"
          ]
        }
      ]
    },
    {
      "cell_type": "code",
      "source": [
        "# Write a code to create a list of 5 random numbers between 1 and 100, sort it in ascending order, and print the\n",
        "# result.(replaced)\n",
        "\n",
        "import random\n",
        "\n",
        "# Create a list of 5 random numbers between 1 and 100\n",
        "random_numbers = [random.randint(1, 100) for _ in range(5)]\n",
        "\n",
        "# Sort the list in ascending order\n",
        "random_numbers.sort()\n",
        "\n",
        "# Print the sorted list\n",
        "random_numbers\n"
      ],
      "metadata": {
        "colab": {
          "base_uri": "https://localhost:8080/"
        },
        "id": "srVVYmN3EFba",
        "outputId": "9b5990ee-54e4-4403-f219-d787474e0c82"
      },
      "execution_count": 27,
      "outputs": [
        {
          "output_type": "execute_result",
          "data": {
            "text/plain": [
              "[20, 31, 39, 44, 96]"
            ]
          },
          "metadata": {},
          "execution_count": 27
        }
      ]
    },
    {
      "cell_type": "code",
      "source": [
        "# Write a code to create a list with strings and print the element at the third index\n",
        "\n",
        "my_list = [\"apple\", \"banana\", \"cherry\", \"date\", \"elderberry\"]\n",
        "my_list[3]\n"
      ],
      "metadata": {
        "colab": {
          "base_uri": "https://localhost:8080/",
          "height": 35
        },
        "id": "khmNqGzyEL6J",
        "outputId": "88921123-19b2-444e-a07e-98aa3b6c50c7"
      },
      "execution_count": 28,
      "outputs": [
        {
          "output_type": "execute_result",
          "data": {
            "text/plain": [
              "'date'"
            ],
            "application/vnd.google.colaboratory.intrinsic+json": {
              "type": "string"
            }
          },
          "metadata": {},
          "execution_count": 28
        }
      ]
    },
    {
      "cell_type": "code",
      "source": [
        "# Write a code to combine two dictionaries into one and print the result\n",
        "\n",
        "dict1 = {'a': 1, 'b': 2}\n",
        "dict2 = {'c': 3, 'd': 4}\n",
        "\n",
        "combined_dict = {**dict1, **dict2}\n",
        "\n",
        "combined_dict\n"
      ],
      "metadata": {
        "colab": {
          "base_uri": "https://localhost:8080/"
        },
        "id": "Yd4mGZlhER2Z",
        "outputId": "8724137b-c171-432e-cf04-a7640f76657d"
      },
      "execution_count": 29,
      "outputs": [
        {
          "output_type": "execute_result",
          "data": {
            "text/plain": [
              "{'a': 1, 'b': 2, 'c': 3, 'd': 4}"
            ]
          },
          "metadata": {},
          "execution_count": 29
        }
      ]
    },
    {
      "cell_type": "code",
      "source": [
        "# Write a code to convert a list of strings into a set\n",
        "\n",
        "def convert_string_list_to_set(string_list):\n",
        "  \"\"\"Converts a list of strings into a set.\n",
        "\n",
        "  Args:\n",
        "    string_list: A list of strings.\n",
        "\n",
        "  Returns:\n",
        "    A set containing the unique strings from the input list.\n",
        "  \"\"\"\n",
        "  return set(string_list)\n",
        "\n",
        "# Example usage:\n",
        "my_list = [\"apple\", \"banana\", \"cherry\", \"apple\", \"banana\"]\n",
        "my_set = convert_string_list_to_set(my_list)\n",
        "print(my_set)  # Output: {'apple', 'banana', 'cherry'}\n"
      ],
      "metadata": {
        "colab": {
          "base_uri": "https://localhost:8080/"
        },
        "id": "laL9FxfZEX5B",
        "outputId": "e8ba5e66-89e1-42fb-8b9f-63cfecf9dc8c"
      },
      "execution_count": 30,
      "outputs": [
        {
          "output_type": "stream",
          "name": "stdout",
          "text": [
            "{'cherry', 'apple', 'banana'}\n"
          ]
        }
      ]
    },
    {
      "cell_type": "code",
      "source": [],
      "metadata": {
        "id": "ZRkaoIhTEepp"
      },
      "execution_count": null,
      "outputs": []
    }
  ]
}